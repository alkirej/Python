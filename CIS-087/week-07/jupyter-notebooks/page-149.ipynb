{
 "cells": [
  {
   "cell_type": "code",
   "execution_count": 1,
   "id": "bf6c38a3",
   "metadata": {},
   "outputs": [],
   "source": [
    "def even(n: int):\n",
    "    return 0 == n % 2"
   ]
  },
  {
   "cell_type": "code",
   "execution_count": 2,
   "id": "a43af97c",
   "metadata": {},
   "outputs": [
    {
     "data": {
      "text/plain": [
       "True"
      ]
     },
     "execution_count": 2,
     "metadata": {},
     "output_type": "execute_result"
    }
   ],
   "source": [
    "even(4)"
   ]
  },
  {
   "cell_type": "code",
   "execution_count": 3,
   "id": "ac1443d4",
   "metadata": {},
   "outputs": [
    {
     "data": {
      "text/plain": [
       "False"
      ]
     },
     "execution_count": 3,
     "metadata": {},
     "output_type": "execute_result"
    }
   ],
   "source": [
    "even(29)"
   ]
  },
  {
   "cell_type": "code",
   "execution_count": 19,
   "id": "5f1ceb63",
   "metadata": {},
   "outputs": [],
   "source": [
    "def odd(n: int):\n",
    "    return ( not even(n) )"
   ]
  },
  {
   "cell_type": "code",
   "execution_count": 20,
   "id": "88b03978",
   "metadata": {},
   "outputs": [
    {
     "data": {
      "text/plain": [
       "False"
      ]
     },
     "execution_count": 20,
     "metadata": {},
     "output_type": "execute_result"
    }
   ],
   "source": [
    "odd(4)"
   ]
  },
  {
   "cell_type": "code",
   "execution_count": 21,
   "id": "d8de3be9",
   "metadata": {},
   "outputs": [
    {
     "data": {
      "text/plain": [
       "True"
      ]
     },
     "execution_count": 21,
     "metadata": {},
     "output_type": "execute_result"
    }
   ],
   "source": [
    "odd(29)"
   ]
  },
  {
   "cell_type": "code",
   "execution_count": 24,
   "id": "0810e796",
   "metadata": {},
   "outputs": [],
   "source": [
    "def summation(low: int, high:int) -> int:\n",
    "    result = 0\n",
    "    for n in range(low,high+1):\n",
    "        result += n\n",
    "    return result"
   ]
  },
  {
   "cell_type": "code",
   "execution_count": 26,
   "id": "334c9598",
   "metadata": {},
   "outputs": [
    {
     "data": {
      "text/plain": [
       "20"
      ]
     },
     "execution_count": 26,
     "metadata": {},
     "output_type": "execute_result"
    }
   ],
   "source": [
    "summation(2,6)"
   ]
  }
 ],
 "metadata": {
  "kernelspec": {
   "display_name": "Python 3 (ipykernel)",
   "language": "python",
   "name": "python3"
  },
  "language_info": {
   "codemirror_mode": {
    "name": "ipython",
    "version": 3
   },
   "file_extension": ".py",
   "mimetype": "text/x-python",
   "name": "python",
   "nbconvert_exporter": "python",
   "pygments_lexer": "ipython3",
   "version": "3.10.6"
  }
 },
 "nbformat": 4,
 "nbformat_minor": 5
}
