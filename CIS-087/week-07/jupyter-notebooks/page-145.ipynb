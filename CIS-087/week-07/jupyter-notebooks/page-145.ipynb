{
 "cells": [
  {
   "cell_type": "code",
   "execution_count": 28,
   "id": "043d96e7",
   "metadata": {},
   "outputs": [],
   "source": [
    "data = [5,3,7]"
   ]
  },
  {
   "cell_type": "code",
   "execution_count": 29,
   "id": "17732571",
   "metadata": {},
   "outputs": [
    {
     "data": {
      "text/plain": [
       "[-5, 3, 7]"
      ]
     },
     "execution_count": 29,
     "metadata": {},
     "output_type": "execute_result"
    }
   ],
   "source": [
    "# (a)\n",
    "data[0] = -data[0]\n",
    "data"
   ]
  },
  {
   "cell_type": "code",
   "execution_count": 30,
   "id": "81291e71",
   "metadata": {},
   "outputs": [
    {
     "data": {
      "text/plain": [
       "[-5, 3, 7, 10]"
      ]
     },
     "execution_count": 30,
     "metadata": {},
     "output_type": "execute_result"
    }
   ],
   "source": [
    "# (b)\n",
    "data.append(10)\n",
    "data"
   ]
  },
  {
   "cell_type": "code",
   "execution_count": 31,
   "id": "84296029",
   "metadata": {},
   "outputs": [
    {
     "data": {
      "text/plain": [
       "[-5, 3, 22, 7, 10]"
      ]
     },
     "execution_count": 31,
     "metadata": {},
     "output_type": "execute_result"
    }
   ],
   "source": [
    "# (c)\n",
    "data.insert(2,22)\n",
    "data"
   ]
  },
  {
   "cell_type": "code",
   "execution_count": 32,
   "id": "cd22deb0",
   "metadata": {},
   "outputs": [
    {
     "data": {
      "text/plain": [
       "3"
      ]
     },
     "execution_count": 32,
     "metadata": {},
     "output_type": "execute_result"
    }
   ],
   "source": [
    "# (d)\n",
    "data.pop(1)"
   ]
  },
  {
   "cell_type": "code",
   "execution_count": 33,
   "id": "079ffc5c",
   "metadata": {},
   "outputs": [
    {
     "data": {
      "text/plain": [
       "[-5, 22, 7, 10]"
      ]
     },
     "execution_count": 33,
     "metadata": {},
     "output_type": "execute_result"
    }
   ],
   "source": [
    "data"
   ]
  },
  {
   "cell_type": "code",
   "execution_count": 34,
   "id": "9fa43f48",
   "metadata": {},
   "outputs": [
    {
     "data": {
      "text/plain": [
       "[-5, 22, 7, 10, 4, 44, 444]"
      ]
     },
     "execution_count": 34,
     "metadata": {},
     "output_type": "execute_result"
    }
   ],
   "source": [
    "# (e)\n",
    "newData = [4,44,444]\n",
    "data += newData\n",
    "data"
   ]
  },
  {
   "cell_type": "code",
   "execution_count": 47,
   "id": "13b4ba87",
   "metadata": {},
   "outputs": [
    {
     "name": "stdout",
     "output_type": "stream",
     "text": [
      "2\n"
     ]
    }
   ],
   "source": [
    "# (f)\n",
    "if 7 in data:\n",
    "    print( data.index(7) )"
   ]
  },
  {
   "cell_type": "code",
   "execution_count": 49,
   "id": "c62b9785",
   "metadata": {},
   "outputs": [
    {
     "data": {
      "text/plain": [
       "[-5, 4, 7, 10, 22, 44, 444]"
      ]
     },
     "execution_count": 49,
     "metadata": {},
     "output_type": "execute_result"
    }
   ],
   "source": [
    "# (g)\n",
    "data.sort()\n",
    "data"
   ]
  },
  {
   "cell_type": "code",
   "execution_count": 52,
   "id": "25cd8d8a",
   "metadata": {},
   "outputs": [
    {
     "data": {
      "text/plain": [
       "[-5, 4, 7, 10, 22, 44, 444]"
      ]
     },
     "execution_count": 52,
     "metadata": {},
     "output_type": "execute_result"
    }
   ],
   "source": [
    "data"
   ]
  },
  {
   "cell_type": "code",
   "execution_count": 53,
   "id": "a448a2e7",
   "metadata": {},
   "outputs": [
    {
     "data": {
      "text/plain": [
       "526"
      ]
     },
     "execution_count": 53,
     "metadata": {},
     "output_type": "execute_result"
    }
   ],
   "source": [
    "sum = 0\n",
    "for n in data:\n",
    "    sum += n\n",
    "sum"
   ]
  },
  {
   "cell_type": "code",
   "execution_count": 54,
   "id": "ed67fdbe",
   "metadata": {},
   "outputs": [],
   "source": [
    "data = [-5, 0, 0, 0, 4, 7, 10, 0, 22, 0, 0, 0, 44, 444, 0, 0, 0]\n",
    "result = []"
   ]
  },
  {
   "cell_type": "code",
   "execution_count": 56,
   "id": "2dcd0006",
   "metadata": {},
   "outputs": [],
   "source": [
    "for n in data:\n",
    "    if n != 0:\n",
    "        result.append(n)"
   ]
  },
  {
   "cell_type": "code",
   "execution_count": 57,
   "id": "0261ab8a",
   "metadata": {},
   "outputs": [
    {
     "data": {
      "text/plain": [
       "[-5, 4, 7, 10, 22, 44, 444]"
      ]
     },
     "execution_count": 57,
     "metadata": {},
     "output_type": "execute_result"
    }
   ],
   "source": [
    "result"
   ]
  },
  {
   "cell_type": "code",
   "execution_count": 61,
   "id": "bf4f6c91",
   "metadata": {},
   "outputs": [],
   "source": [
    "data = [-5, 0, 4, -22, 100, -5486]"
   ]
  },
  {
   "cell_type": "code",
   "execution_count": 64,
   "id": "5a5852d2",
   "metadata": {},
   "outputs": [],
   "source": [
    "for n in range(len(data)):\n",
    "    data[n] = abs( data[n] )"
   ]
  },
  {
   "cell_type": "code",
   "execution_count": 65,
   "id": "39af162c",
   "metadata": {},
   "outputs": [
    {
     "data": {
      "text/plain": [
       "[5, 0, 4, 22, 100, 5486]"
      ]
     },
     "execution_count": 65,
     "metadata": {},
     "output_type": "execute_result"
    }
   ],
   "source": [
    "data\n"
   ]
  }
 ],
 "metadata": {
  "kernelspec": {
   "display_name": "Python 3 (ipykernel)",
   "language": "python",
   "name": "python3"
  },
  "language_info": {
   "codemirror_mode": {
    "name": "ipython",
    "version": 3
   },
   "file_extension": ".py",
   "mimetype": "text/x-python",
   "name": "python",
   "nbconvert_exporter": "python",
   "pygments_lexer": "ipython3",
   "version": "3.10.6"
  }
 },
 "nbformat": 4,
 "nbformat_minor": 5
}
