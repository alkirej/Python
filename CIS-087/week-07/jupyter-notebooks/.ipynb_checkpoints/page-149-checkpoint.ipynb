{
 "cells": [
  {
   "cell_type": "code",
   "execution_count": 1,
   "id": "6a1d4750",
   "metadata": {},
   "outputs": [],
   "source": [
    "def even(n: int):\n",
    "    return 0 == n % 2"
   ]
  },
  {
   "cell_type": "code",
   "execution_count": 2,
   "id": "f18d8c63",
   "metadata": {},
   "outputs": [
    {
     "data": {
      "text/plain": [
       "True"
      ]
     },
     "execution_count": 2,
     "metadata": {},
     "output_type": "execute_result"
    }
   ],
   "source": [
    "even(4)"
   ]
  },
  {
   "cell_type": "code",
   "execution_count": 3,
   "id": "42016058",
   "metadata": {},
   "outputs": [
    {
     "data": {
      "text/plain": [
       "False"
      ]
     },
     "execution_count": 3,
     "metadata": {},
     "output_type": "execute_result"
    }
   ],
   "source": [
    "even(29)"
   ]
  },
  {
   "cell_type": "code",
   "execution_count": 19,
   "id": "43fe1dec",
   "metadata": {},
   "outputs": [],
   "source": [
    "def odd(n: int):\n",
    "    return ( not even(n) )"
   ]
  },
  {
   "cell_type": "code",
   "execution_count": 20,
   "id": "07a90daa",
   "metadata": {},
   "outputs": [
    {
     "data": {
      "text/plain": [
       "False"
      ]
     },
     "execution_count": 20,
     "metadata": {},
     "output_type": "execute_result"
    }
   ],
   "source": [
    "odd(4)"
   ]
  },
  {
   "cell_type": "code",
   "execution_count": 21,
   "id": "0c3f4085",
   "metadata": {},
   "outputs": [
    {
     "data": {
      "text/plain": [
       "True"
      ]
     },
     "execution_count": 21,
     "metadata": {},
     "output_type": "execute_result"
    }
   ],
   "source": [
    "odd(29)"
   ]
  }
 ],
 "metadata": {
  "kernelspec": {
   "display_name": "Python 3 (ipykernel)",
   "language": "python",
   "name": "python3"
  },
  "language_info": {
   "codemirror_mode": {
    "name": "ipython",
    "version": 3
   },
   "file_extension": ".py",
   "mimetype": "text/x-python",
   "name": "python",
   "nbconvert_exporter": "python",
   "pygments_lexer": "ipython3",
   "version": "3.10.6"
  }
 },
 "nbformat": 4,
 "nbformat_minor": 5
}
