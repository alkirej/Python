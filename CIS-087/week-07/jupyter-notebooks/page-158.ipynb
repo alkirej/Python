{
 "cells": [
  {
   "cell_type": "code",
   "execution_count": 14,
   "id": "d16b66fe",
   "metadata": {},
   "outputs": [],
   "source": [
    "data = { 'b':20, 'a':35 }"
   ]
  },
  {
   "cell_type": "code",
   "execution_count": 15,
   "id": "641bbbe1",
   "metadata": {},
   "outputs": [
    {
     "data": {
      "text/plain": [
       "{'b': -20, 'a': 35}"
      ]
     },
     "execution_count": 15,
     "metadata": {},
     "output_type": "execute_result"
    }
   ],
   "source": [
    "# (a)\n",
    "data['b'] = -data['b']\n",
    "data"
   ]
  },
  {
   "cell_type": "code",
   "execution_count": 16,
   "id": "1ed0423a",
   "metadata": {},
   "outputs": [
    {
     "data": {
      "text/plain": [
       "{'b': -20, 'a': 35, 'c': 40}"
      ]
     },
     "execution_count": 16,
     "metadata": {},
     "output_type": "execute_result"
    }
   ],
   "source": [
    "# (b)\n",
    "data['c'] = 40\n",
    "data"
   ]
  },
  {
   "cell_type": "code",
   "execution_count": 17,
   "id": "bf98f929",
   "metadata": {},
   "outputs": [
    {
     "data": {
      "text/plain": [
       "{'a': 35, 'c': 40}"
      ]
     },
     "execution_count": 17,
     "metadata": {},
     "output_type": "execute_result"
    }
   ],
   "source": [
    "#(c)\n",
    "\n",
    "data"
   ]
  },
  {
   "cell_type": "code",
   "execution_count": 49,
   "id": "426e3169",
   "metadata": {},
   "outputs": [
    {
     "data": {
      "text/plain": [
       "['zebra', 'cougar', 'rat']"
      ]
     },
     "execution_count": 49,
     "metadata": {},
     "output_type": "execute_result"
    }
   ],
   "source": [
    "# (d)\n",
    "data = { \"zebra\":\"horse\", \"cougar\":\"cat\", \"rat\":\"mouse\" }\n",
    "key_list = list(data.keys() )\n",
    "key_list"
   ]
  },
  {
   "cell_type": "code",
   "execution_count": 50,
   "id": "694995d7",
   "metadata": {},
   "outputs": [
    {
     "data": {
      "text/plain": [
       "['cougar', 'rat', 'zebra']"
      ]
     },
     "execution_count": 50,
     "metadata": {},
     "output_type": "execute_result"
    }
   ],
   "source": [
    "key_list.sort()\n",
    "key_list"
   ]
  },
  {
   "cell_type": "code",
   "execution_count": 12,
   "id": "d3943754",
   "metadata": {},
   "outputs": [
    {
     "data": {
      "text/plain": [
       "20"
      ]
     },
     "execution_count": 12,
     "metadata": {},
     "output_type": "execute_result"
    }
   ],
   "source": [
    "# (f)\n",
    "data.pop('b')"
   ]
  },
  {
   "cell_type": "code",
   "execution_count": 13,
   "id": "311ecdb6",
   "metadata": {},
   "outputs": [
    {
     "data": {
      "text/plain": [
       "{'a': 35}"
      ]
     },
     "execution_count": 13,
     "metadata": {},
     "output_type": "execute_result"
    }
   ],
   "source": [
    "# (g)\n",
    "data"
   ]
  },
  {
   "cell_type": "code",
   "execution_count": null,
   "id": "4e31bf4f",
   "metadata": {},
   "outputs": [],
   "source": []
  },
  {
   "cell_type": "code",
   "execution_count": 56,
   "id": "908e8ed0",
   "metadata": {},
   "outputs": [],
   "source": [
    "list1 = [1,2,3]\n",
    "list2 = [6,5,4]"
   ]
  },
  {
   "cell_type": "code",
   "execution_count": 52,
   "id": "5e25589a",
   "metadata": {},
   "outputs": [],
   "source": [
    "list1.append(list2)"
   ]
  },
  {
   "cell_type": "code",
   "execution_count": 53,
   "id": "6d42a255",
   "metadata": {},
   "outputs": [
    {
     "data": {
      "text/plain": [
       "[1, 2, 3, [6, 5, 4]]"
      ]
     },
     "execution_count": 53,
     "metadata": {},
     "output_type": "execute_result"
    }
   ],
   "source": [
    "list1"
   ]
  },
  {
   "cell_type": "code",
   "execution_count": 57,
   "id": "592841f5",
   "metadata": {},
   "outputs": [],
   "source": [
    "list1.extend(list2)"
   ]
  },
  {
   "cell_type": "code",
   "execution_count": 58,
   "id": "4a34ec38",
   "metadata": {},
   "outputs": [
    {
     "data": {
      "text/plain": [
       "[1, 2, 3, 6, 5, 4]"
      ]
     },
     "execution_count": 58,
     "metadata": {},
     "output_type": "execute_result"
    }
   ],
   "source": [
    "list1"
   ]
  },
  {
   "cell_type": "code",
   "execution_count": 59,
   "id": "0c9cb5ee",
   "metadata": {},
   "outputs": [
    {
     "data": {
      "text/plain": [
       "4"
      ]
     },
     "execution_count": 59,
     "metadata": {},
     "output_type": "execute_result"
    }
   ],
   "source": [
    "list1.pop()"
   ]
  },
  {
   "cell_type": "code",
   "execution_count": 68,
   "id": "1a6b9bf3",
   "metadata": {},
   "outputs": [
    {
     "data": {
      "text/plain": [
       "dict_items([('zebra', 'horse'), ('cougar', 'cat'), ('rat', 'mouse')])"
      ]
     },
     "execution_count": 68,
     "metadata": {},
     "output_type": "execute_result"
    }
   ],
   "source": [
    "data.items()"
   ]
  }
 ],
 "metadata": {
  "kernelspec": {
   "display_name": "Python 3 (ipykernel)",
   "language": "python",
   "name": "python3"
  },
  "language_info": {
   "codemirror_mode": {
    "name": "ipython",
    "version": 3
   },
   "file_extension": ".py",
   "mimetype": "text/x-python",
   "name": "python",
   "nbconvert_exporter": "python",
   "pygments_lexer": "ipython3",
   "version": "3.10.6"
  }
 },
 "nbformat": 4,
 "nbformat_minor": 5
}
