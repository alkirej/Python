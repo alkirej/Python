{
 "cells": [
  {
   "cell_type": "code",
   "execution_count": 15,
   "id": "0de7eaad",
   "metadata": {},
   "outputs": [],
   "source": [
    "\"\"\"\n",
    "File: polygons.py\n",
    "Functions for drawing regular polygons.\n",
    "\"\"\"\n",
    "\n",
    "def square(t, length):\n",
    "    \"\"\"Draws a square with the given length.\"\"\"\n",
    "    for count in range(4):\n",
    "        t.forward(length)\n",
    "        t.left(90)\n",
    "\n",
    "def hexagon(t, length):\n",
    "    \"\"\"Draws a hexagon with the given length.\"\"\"\n",
    "    for count in range(6):\n",
    "        t.forward(length)\n",
    "        t.left(60)\n",
    "\n",
    "def radialHexagons(t, n, length):\n",
    "    \"\"\"Draws a radial pattern of n squares with \n",
    "    the given length.\"\"\"\n",
    "    for count in range(n):\n",
    "        hexagon(t, length)\n",
    "        t.left(360 / n)\n",
    "\n",
    "def radialPattern(t, n, length, shape):\n",
    "    \"\"\"Draws a radial pattern of n shapes with \n",
    "    the given length.\"\"\"\n",
    "    for count in range(n):\n",
    "        shape(t, length)\n",
    "        t.left(360 / n)"
   ]
  },
  {
   "cell_type": "code",
   "execution_count": 21,
   "id": "dca06cc3",
   "metadata": {},
   "outputs": [],
   "source": [
    "def circle(t, length):\n",
    "    \"\"\"Draws a circle.  Actually, a 360 sided polygon with each side have given length.\"\"\"\n",
    "    for count in range(360):\n",
    "        t.forward(length)\n",
    "        t.left(1)\n"
   ]
  },
  {
   "cell_type": "code",
   "execution_count": 22,
   "id": "ce184ac1",
   "metadata": {},
   "outputs": [],
   "source": [
    "t = Turtle()\n",
    "circle(t,1)"
   ]
  }
 ],
 "metadata": {
  "kernelspec": {
   "display_name": "Python 3 (ipykernel)",
   "language": "python",
   "name": "python3"
  },
  "language_info": {
   "codemirror_mode": {
    "name": "ipython",
    "version": 3
   },
   "file_extension": ".py",
   "mimetype": "text/x-python",
   "name": "python",
   "nbconvert_exporter": "python",
   "pygments_lexer": "ipython3",
   "version": "3.10.6"
  }
 },
 "nbformat": 4,
 "nbformat_minor": 5
}
