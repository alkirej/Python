{
 "cells": [
  {
   "cell_type": "code",
   "execution_count": 1,
   "id": "0c062b14",
   "metadata": {},
   "outputs": [],
   "source": [
    "from turtle import Turtle\n",
    "tur = Turtle()"
   ]
  },
  {
   "cell_type": "code",
   "execution_count": 2,
   "id": "2a3d8b72",
   "metadata": {},
   "outputs": [],
   "source": [
    "tur.begin_fill()\n",
    "tur.circle(50)\n",
    "tur.end_fill()\n",
    "tur.hideturtle()"
   ]
  },
  {
   "cell_type": "code",
   "execution_count": 3,
   "id": "7087a751",
   "metadata": {},
   "outputs": [],
   "source": [
    "tur.up()\n",
    "tur.goto(-100,0)\n",
    "tur.begin_fill()\n",
    "tur.circle(50,180)\n",
    "tur.end_fill()\n",
    "tur.hideturtle()"
   ]
  }
 ],
 "metadata": {
  "kernelspec": {
   "display_name": "Python 3 (ipykernel)",
   "language": "python",
   "name": "python3"
  },
  "language_info": {
   "codemirror_mode": {
    "name": "ipython",
    "version": 3
   },
   "file_extension": ".py",
   "mimetype": "text/x-python",
   "name": "python",
   "nbconvert_exporter": "python",
   "pygments_lexer": "ipython3",
   "version": "3.10.6"
  }
 },
 "nbformat": 4,
 "nbformat_minor": 5
}
