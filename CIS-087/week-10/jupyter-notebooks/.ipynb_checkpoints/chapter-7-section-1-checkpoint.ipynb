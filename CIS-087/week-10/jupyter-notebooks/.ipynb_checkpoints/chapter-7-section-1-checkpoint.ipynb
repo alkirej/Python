{
 "cells": [
  {
   "cell_type": "code",
   "execution_count": null,
   "id": "24c7e616",
   "metadata": {},
   "outputs": [],
   "source": [
    "from turtle import Turtle\n",
    "tur = Turtle()"
   ]
  },
  {
   "cell_type": "code",
   "execution_count": 7,
   "id": "ad971c04",
   "metadata": {},
   "outputs": [],
   "source": [
    "t.begin_fill()\n",
    "tur.circle\n",
    "t.end_fill()"
   ]
  }
 ],
 "metadata": {
  "kernelspec": {
   "display_name": "Python 3 (ipykernel)",
   "language": "python",
   "name": "python3"
  },
  "language_info": {
   "codemirror_mode": {
    "name": "ipython",
    "version": 3
   },
   "file_extension": ".py",
   "mimetype": "text/x-python",
   "name": "python",
   "nbconvert_exporter": "python",
   "pygments_lexer": "ipython3",
   "version": "3.10.6"
  }
 },
 "nbformat": 4,
 "nbformat_minor": 5
}
