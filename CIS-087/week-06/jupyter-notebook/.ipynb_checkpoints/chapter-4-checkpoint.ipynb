{
 "cells": [
  {
   "cell_type": "code",
   "execution_count": 17,
   "id": "750d1294-ca21-4256-905a-adf6b1528ac8",
   "metadata": {},
   "outputs": [],
   "source": [
    "import os"
   ]
  },
  {
   "cell_type": "code",
   "execution_count": 23,
   "id": "699ee627-2cf9-4051-848f-4cddfaf1e040",
   "metadata": {},
   "outputs": [
    {
     "name": "stdin",
     "output_type": "stream",
     "text": [
      "Enter filename:  test\n"
     ]
    }
   ],
   "source": [
    "file_name = input(\"Enter file name: \")"
   ]
  },
  {
   "cell_type": "code",
   "execution_count": 29,
   "id": "3a783351-02f6-4186-8c59-239775cad7ed",
   "metadata": {},
   "outputs": [
    {
     "name": "stdout",
     "output_type": "stream",
     "text": [
      "Sorry, I was unable to fine that file:\n"
     ]
    }
   ],
   "source": [
    "file_exists = os.path.isfile(file_name)\n",
    "if file_exists:\n",
    "    fd = open(file_name,'r')\n",
    "    print(fd.read())\n",
    "    fd.close()\n",
    "else:\n",
    "    print(\"Sorry, I was unable to find that file:\")"
   ]
  }
 ],
 "metadata": {
  "kernelspec": {
   "display_name": "Python 3 (ipykernel)",
   "language": "python",
   "name": "python3"
  },
  "language_info": {
   "codemirror_mode": {
    "name": "ipython",
    "version": 3
   },
   "file_extension": ".py",
   "mimetype": "text/x-python",
   "name": "python",
   "nbconvert_exporter": "python",
   "pygments_lexer": "ipython3",
   "version": "3.10.4"
  }
 },
 "nbformat": 4,
 "nbformat_minor": 5
}
