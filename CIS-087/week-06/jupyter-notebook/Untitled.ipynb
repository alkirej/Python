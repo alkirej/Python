{
 "cells": [
  {
   "cell_type": "code",
   "execution_count": 1,
   "id": "7389167d-4eef-4c18-aed9-1a7577a114c5",
   "metadata": {},
   "outputs": [],
   "source": [
    "data = \"myprogram.exe\""
   ]
  },
  {
   "cell_type": "code",
   "execution_count": 2,
   "id": "57de41e4",
   "metadata": {},
   "outputs": [
    {
     "data": {
      "text/plain": [
       "'myprogram'"
      ]
     },
     "execution_count": 2,
     "metadata": {},
     "output_type": "execute_result"
    }
   ],
   "source": [
    "data[0:9]"
   ]
  },
  {
   "cell_type": "code",
   "execution_count": 5,
   "id": "ded0b371",
   "metadata": {},
   "outputs": [
    {
     "data": {
      "text/plain": [
       "'.exe'"
      ]
     },
     "execution_count": 5,
     "metadata": {},
     "output_type": "execute_result"
    }
   ],
   "source": [
    "data[-4:]"
   ]
  },
  {
   "cell_type": "code",
   "execution_count": 4,
   "id": "f59e462c",
   "metadata": {},
   "outputs": [
    {
     "data": {
      "text/plain": [
       "'myprogram'"
      ]
     },
     "execution_count": 4,
     "metadata": {},
     "output_type": "execute_result"
    }
   ],
   "source": [
    "data[0:-4]"
   ]
  },
  {
   "cell_type": "code",
   "execution_count": 10,
   "id": "c9e17e9e",
   "metadata": {},
   "outputs": [],
   "source": [
    "myString = \"Encyclopedia\"\n",
    "reversedString = \"\""
   ]
  },
  {
   "cell_type": "code",
   "execution_count": 11,
   "id": "f7cef8ff",
   "metadata": {},
   "outputs": [
    {
     "data": {
      "text/plain": [
       "'aidepolcycnE'"
      ]
     },
     "execution_count": 11,
     "metadata": {},
     "output_type": "execute_result"
    }
   ],
   "source": [
    "for ch in myString: \n",
    "    reversedString = ch + reversedString\n",
    "reversedString"
   ]
  },
  {
   "cell_type": "code",
   "execution_count": 14,
   "id": "9e342134",
   "metadata": {},
   "outputs": [],
   "source": [
    "parts = { 'a':\"hello\", 'b':\"goodbye\" }"
   ]
  },
  {
   "cell_type": "code",
   "execution_count": 15,
   "id": "ccf9da91",
   "metadata": {},
   "outputs": [
    {
     "ename": "AttributeError",
     "evalue": "'dict' object has no attribute 'list'",
     "output_type": "error",
     "traceback": [
      "\u001b[0;31m---------------------------------------------------------------------------\u001b[0m",
      "\u001b[0;31mAttributeError\u001b[0m                            Traceback (most recent call last)",
      "Cell \u001b[0;32mIn [15], line 1\u001b[0m\n\u001b[0;32m----> 1\u001b[0m \u001b[43mparts\u001b[49m\u001b[38;5;241;43m.\u001b[39;49m\u001b[43mlist\u001b[49m()\n",
      "\u001b[0;31mAttributeError\u001b[0m: 'dict' object has no attribute 'list'"
     ]
    }
   ],
   "source": [
    "parts.list()"
   ]
  },
  {
   "cell_type": "code",
   "execution_count": 16,
   "id": "186467ed",
   "metadata": {},
   "outputs": [
    {
     "ename": "AttributeError",
     "evalue": "'dict' object has no attribute 'print'",
     "output_type": "error",
     "traceback": [
      "\u001b[0;31m---------------------------------------------------------------------------\u001b[0m",
      "\u001b[0;31mAttributeError\u001b[0m                            Traceback (most recent call last)",
      "Cell \u001b[0;32mIn [16], line 1\u001b[0m\n\u001b[0;32m----> 1\u001b[0m \u001b[43mparts\u001b[49m\u001b[38;5;241;43m.\u001b[39;49m\u001b[43mprint\u001b[49m()\n",
      "\u001b[0;31mAttributeError\u001b[0m: 'dict' object has no attribute 'print'"
     ]
    }
   ],
   "source": [
    "parts.print()"
   ]
  },
  {
   "cell_type": "code",
   "execution_count": 17,
   "id": "397bdc2c",
   "metadata": {},
   "outputs": [
    {
     "ename": "AttributeError",
     "evalue": "'dict' object has no attribute 'show'",
     "output_type": "error",
     "traceback": [
      "\u001b[0;31m---------------------------------------------------------------------------\u001b[0m",
      "\u001b[0;31mAttributeError\u001b[0m                            Traceback (most recent call last)",
      "Cell \u001b[0;32mIn [17], line 1\u001b[0m\n\u001b[0;32m----> 1\u001b[0m \u001b[43mparts\u001b[49m\u001b[38;5;241;43m.\u001b[39;49m\u001b[43mshow\u001b[49m()\n",
      "\u001b[0;31mAttributeError\u001b[0m: 'dict' object has no attribute 'show'"
     ]
    }
   ],
   "source": [
    "parts.show()"
   ]
  },
  {
   "cell_type": "code",
   "execution_count": 18,
   "id": "69ac0a63",
   "metadata": {},
   "outputs": [
    {
     "data": {
      "text/plain": [
       "dict_items([('a', 'hello'), ('b', 'goodbye')])"
      ]
     },
     "execution_count": 18,
     "metadata": {},
     "output_type": "execute_result"
    }
   ],
   "source": [
    "parts.items()"
   ]
  }
 ],
 "metadata": {
  "kernelspec": {
   "display_name": "Python 3 (ipykernel)",
   "language": "python",
   "name": "python3"
  },
  "language_info": {
   "codemirror_mode": {
    "name": "ipython",
    "version": 3
   },
   "file_extension": ".py",
   "mimetype": "text/x-python",
   "name": "python",
   "nbconvert_exporter": "python",
   "pygments_lexer": "ipython3",
   "version": "3.10.6"
  }
 },
 "nbformat": 4,
 "nbformat_minor": 5
}
