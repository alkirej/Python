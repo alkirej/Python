{
 "cells": [
  {
   "cell_type": "code",
   "execution_count": 1,
   "id": "750d1294-ca21-4256-905a-adf6b1528ac8",
   "metadata": {},
   "outputs": [],
   "source": [
    "import os"
   ]
  },
  {
   "cell_type": "code",
   "execution_count": 2,
   "id": "699ee627-2cf9-4051-848f-4cddfaf1e040",
   "metadata": {},
   "outputs": [
    {
     "name": "stdin",
     "output_type": "stream",
     "text": [
      "Enter file name:  bad-file-name\n"
     ]
    }
   ],
   "source": [
    "file_name = input(\"Enter file name: \")"
   ]
  },
  {
   "cell_type": "code",
   "execution_count": 6,
   "id": "3a783351-02f6-4186-8c59-239775cad7ed",
   "metadata": {},
   "outputs": [
    {
     "name": "stdout",
     "output_type": "stream",
     "text": [
      "Sorry, I was unable to find bad-file-name.\n"
     ]
    }
   ],
   "source": [
    "file_exists = os.path.isfile(file_name)\n",
    "if file_exists:\n",
    "    fd = open(file_name,'r')\n",
    "    print(fd.read())\n",
    "    fd.close()\n",
    "else:\n",
    "    print(\"Sorry, I was unable to find \" + file_name + \".\" )"
   ]
  },
  {
   "cell_type": "code",
   "execution_count": 9,
   "id": "2558bc49-b01f-486a-833f-17119f0e75e0",
   "metadata": {},
   "outputs": [
    {
     "data": {
      "text/plain": [
       "'AHDFKJSDHADLKJFLDJF'"
      ]
     },
     "execution_count": 9,
     "metadata": {},
     "output_type": "execute_result"
    }
   ],
   "source": [
    "s = \"ahdfkjsdhaDLKJFLDJf\"\n",
    "s.upper()"
   ]
  }
 ],
 "metadata": {
  "kernelspec": {
   "display_name": "Python 3 (ipykernel)",
   "language": "python",
   "name": "python3"
  },
  "language_info": {
   "codemirror_mode": {
    "name": "ipython",
    "version": 3
   },
   "file_extension": ".py",
   "mimetype": "text/x-python",
   "name": "python",
   "nbconvert_exporter": "python",
   "pygments_lexer": "ipython3",
   "version": "3.10.6"
  }
 },
 "nbformat": 4,
 "nbformat_minor": 5
}
