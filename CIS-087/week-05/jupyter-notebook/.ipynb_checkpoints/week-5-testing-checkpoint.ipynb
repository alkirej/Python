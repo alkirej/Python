{
 "cells": [
  {
   "cell_type": "code",
   "execution_count": 83,
   "id": "21ad5fd6-0e2c-4512-b46d-aea2aaf16464",
   "metadata": {},
   "outputs": [],
   "source": [
    "(x,y) = (\"Zebra\", \"Cougar\")"
   ]
  },
  {
   "cell_type": "code",
   "execution_count": 86,
   "id": "1b2502da-25fd-4f1a-9962-a4d1a4088af6",
   "metadata": {},
   "outputs": [
    {
     "name": "stdout",
     "output_type": "stream",
     "text": [
      "Cougar\n",
      "Zebra\n"
     ]
    }
   ],
   "source": [
    "if x > y:\n",
    "    (x,y) = (y,x)\n",
    "print( x )\n",
    "print( y )"
   ]
  }
 ],
 "metadata": {
  "kernelspec": {
   "display_name": "Python 3 (ipykernel)",
   "language": "python",
   "name": "python3"
  },
  "language_info": {
   "codemirror_mode": {
    "name": "ipython",
    "version": 3
   },
   "file_extension": ".py",
   "mimetype": "text/x-python",
   "name": "python",
   "nbconvert_exporter": "python",
   "pygments_lexer": "ipython3",
   "version": "3.10.4"
  },
  "toc-autonumbering": true,
  "toc-showcode": true,
  "toc-showmarkdowntxt": true
 },
 "nbformat": 4,
 "nbformat_minor": 5
}
