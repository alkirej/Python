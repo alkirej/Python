{
 "cells": [
  {
   "cell_type": "code",
   "execution_count": 110,
   "id": "bb4f154f",
   "metadata": {},
   "outputs": [],
   "source": [
    "from math import sqrt"
   ]
  },
  {
   "cell_type": "code",
   "execution_count": 112,
   "id": "36f934d0",
   "metadata": {},
   "outputs": [],
   "source": [
    "def summation(lower,upper,step=1,fn=lambda x: x):\n",
    "    \"\"\" Returns the sum of the numbers from lower\n",
    "        to upper.\n",
    "    \"\"\"\n",
    "    if lower > upper:\n",
    "        return 0\n",
    "    else:\n",
    "        return fn(lower) + summation(lower+step,upper,step,fn)"
   ]
  },
  {
   "cell_type": "code",
   "execution_count": 113,
   "id": "732b0549",
   "metadata": {},
   "outputs": [
    {
     "data": {
      "text/plain": [
       "5050"
      ]
     },
     "execution_count": 113,
     "metadata": {},
     "output_type": "execute_result"
    }
   ],
   "source": [
    "summation(1,100)"
   ]
  },
  {
   "cell_type": "code",
   "execution_count": 109,
   "id": "d1120a8e",
   "metadata": {},
   "outputs": [
    {
     "data": {
      "text/plain": [
       "333.4152759969378"
      ]
     },
     "execution_count": 109,
     "metadata": {},
     "output_type": "execute_result"
    }
   ],
   "source": [
    "summation(1,100,2,sqrt)"
   ]
  },
  {
   "cell_type": "code",
   "execution_count": null,
   "id": "7479094c",
   "metadata": {},
   "outputs": [],
   "source": []
  }
 ],
 "metadata": {
  "kernelspec": {
   "display_name": "Python 3 (ipykernel)",
   "language": "python",
   "name": "python3"
  },
  "language_info": {
   "codemirror_mode": {
    "name": "ipython",
    "version": 3
   },
   "file_extension": ".py",
   "mimetype": "text/x-python",
   "name": "python",
   "nbconvert_exporter": "python",
   "pygments_lexer": "ipython3",
   "version": "3.10.6"
  }
 },
 "nbformat": 4,
 "nbformat_minor": 5
}
